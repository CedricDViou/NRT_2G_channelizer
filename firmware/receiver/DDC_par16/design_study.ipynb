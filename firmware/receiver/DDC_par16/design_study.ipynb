{
 "cells": [
  {
   "cell_type": "markdown",
   "id": "5bcb362f",
   "metadata": {},
   "source": [
    "# Naive DDC approach for NRT Channelizer"
   ]
  },
  {
   "cell_type": "markdown",
   "id": "8b3701e2",
   "metadata": {},
   "source": [
    "- https://ieeexplore.ieee.org/document/7314417\n",
    "- https://ieeexplore.ieee.org/document/7879676\n",
    "- https://www.researchgate.net/publication/351827578_High_Efficient_Polyphase_Digital_Down_Converter_on_FPGA\n",
    "- http://courses.itee.uq.edu.au/elec3004/2012s1/_lectures/ELEC3004.Lecture14.pdf\n",
    "- http://www.ee.ic.ac.uk/hp/staff/dmb/courses/DSPDF/01200_Polyphase.pdf\n",
    "- Fredric J. Harris, Multirate Signal Processing for Communication Systems, https://ieeexplore.ieee.org/book/9429990"
   ]
  },
  {
   "cell_type": "code",
   "execution_count": null,
   "id": "00be79e7",
   "metadata": {},
   "outputs": [],
   "source": [
    "import numpy as np\n",
    "import scipy\n",
    "import scipy.signal\n",
    "import matplotlib.pyplot as plt\n",
    "%matplotlib widget\n",
    "#%matplotlib qt"
   ]
  },
  {
   "cell_type": "markdown",
   "id": "d80b0e09",
   "metadata": {},
   "source": [
    "Generate some wideband noise with some RFI lines as a test signal"
   ]
  },
  {
   "cell_type": "code",
   "execution_count": null,
   "id": "ba730cda",
   "metadata": {
    "scrolled": true
   },
   "outputs": [],
   "source": [
    "fs = 3.7e9\n",
    "N_samples = 1024**2\n",
    "amp = 2 * np.sqrt(2)\n",
    "noise_power = 0.0000001 * fs / 2\n",
    "n = np.arange(N_samples)\n",
    "time = n / float(fs)"
   ]
  },
  {
   "cell_type": "code",
   "execution_count": null,
   "id": "5dfcf828",
   "metadata": {},
   "outputs": [],
   "source": [
    "modulation_index = 1000\n",
    "mod = modulation_index * np.cos(2*np.pi*2e4*time)\n",
    "carrier = amp * np.sin(2*np.pi*1.25e9*time + mod)\n",
    "\n",
    "#plt.figure()\n",
    "#plt.plot(time, mod)\n",
    "#plt.figure()\n",
    "#plt.plot(time, carrier)"
   ]
  },
  {
   "cell_type": "code",
   "execution_count": null,
   "id": "6c58b6f0",
   "metadata": {},
   "outputs": [],
   "source": [
    "rng = np.random.default_rng()\n",
    "noise = rng.normal(scale=np.sqrt(noise_power), size=time.shape)"
   ]
  },
  {
   "cell_type": "code",
   "execution_count": null,
   "id": "06b37147",
   "metadata": {
    "scrolled": false
   },
   "outputs": [],
   "source": [
    "numtaps = 100\n",
    "BF_feed_filter = scipy.signal.firwin(numtaps, [1e9, 1.75e9] , width=None, window='hamming', pass_zero=False, scale=True, nyq=None, fs=fs)\n",
    "\n",
    "w,h = scipy.signal.freqz(BF_feed_filter, fs=fs)\n",
    "fig, ax1 = plt.subplots()\n",
    "\n",
    "ax1.set_title('Digital filter frequency response')\n",
    "ax1.plot(w, 20 * np.log10(abs(h)), 'b')\n",
    "ax1.set_ylabel('Amplitude [dB]', color='b')\n",
    "ax1.set_xlabel('Frequency [rad/sample]')\n",
    "\n",
    "ax2 = ax1.twinx()\n",
    "angles = np.unwrap(np.angle(h))\n",
    "ax2.plot(w, angles, 'g')\n",
    "ax2.set_ylabel('Angle (radians)', color='g')\n",
    "ax2.grid(True)\n",
    "ax2.axis('tight')\n",
    "plt.show()"
   ]
  },
  {
   "cell_type": "code",
   "execution_count": null,
   "id": "441d10a8",
   "metadata": {},
   "outputs": [],
   "source": [
    "noise = scipy.signal.lfilter(BF_feed_filter, 1, noise, axis=-1, zi=None)\n",
    "#plt.figure()\n",
    "#plt.plot(time, noise)"
   ]
  },
  {
   "cell_type": "code",
   "execution_count": null,
   "id": "4dd019c9",
   "metadata": {
    "scrolled": true
   },
   "outputs": [],
   "source": [
    "#plt.figure()\n",
    "#f, t, Sxx = scipy.signal.stft(noise, fs)\n",
    "#plt.pcolormesh(t, f, np.abs(Sxx), shading='gouraud')\n",
    "#plt.ylabel('Frequency [Hz]')\n",
    "#plt.xlabel('Time [sec]')\n",
    "#plt.show()"
   ]
  },
  {
   "cell_type": "code",
   "execution_count": null,
   "id": "9983aad2",
   "metadata": {},
   "outputs": [],
   "source": [
    "x = carrier + noise\n",
    "#plt.figure()\n",
    "#plt.plot(time, x)\n"
   ]
  },
  {
   "cell_type": "code",
   "execution_count": null,
   "id": "6bfe0177",
   "metadata": {},
   "outputs": [],
   "source": [
    "fig, ax1 = plt.subplots()\n",
    "f, t, Sxx = scipy.signal.stft(x, fs, return_onesided=False, nperseg=1024)\n",
    "ax1.pcolormesh(t, (scipy.fft.fftshift(f))/1e6, scipy.fft.fftshift(np.abs(Sxx), axes=0), shading='gouraud')\n",
    "ax1.set_ylabel('Frequency [MHz]')\n",
    "ax1.set_xlabel('Time [sec]')\n",
    "plt.show()"
   ]
  },
  {
   "cell_type": "markdown",
   "id": "78d8b167",
   "metadata": {},
   "source": [
    "Multiplication by a complex sine, sample per sample, to shift the frequency of interest to DC\n"
   ]
  },
  {
   "cell_type": "code",
   "execution_count": null,
   "id": "f26ea80b",
   "metadata": {},
   "outputs": [],
   "source": [
    "DDC_step_len = 1024\n",
    "F0 = 1.23e9\n",
    "k0 = int(F0/fs*DDC_step_len)\n",
    "F0 = k0/DDC_step_len * fs\n",
    "L0 = np.exp(-2j*np.pi*k0*n/DDC_step_len)\n",
    "#plt.figure()\n",
    "#plt.plot(time, L0.real, time, L0.imag)"
   ]
  },
  {
   "cell_type": "code",
   "execution_count": null,
   "id": "e3582979",
   "metadata": {},
   "outputs": [],
   "source": [
    "x_transposed = x * L0\n",
    "\n",
    "fig, ax1 = plt.subplots()\n",
    "f, t, Sxx = scipy.signal.stft(x_transposed, fs, return_onesided=False, nperseg=1024)\n",
    "#f, t, Sxx = scipy.signal.spectrogram(x_transposed, fs)\n",
    "ax1.pcolormesh(t, (F0 + scipy.fft.fftshift(f))/1e6, scipy.fft.fftshift(np.abs(Sxx), axes=0), shading='gouraud')\n",
    "ax1.set_ylabel('Frequency [MHz]')\n",
    "ax1.set_xlabel('Time [sec]')\n",
    "secax = ax1.secondary_yaxis('right', functions=(lambda f: f-F0/1e6,\n",
    "                                                lambda f: f+F0/1e6))\n",
    "secax.set_ylabel('Freq offset [MHz]')\n",
    "\n",
    "plt.show()"
   ]
  },
  {
   "cell_type": "markdown",
   "id": "adbe459e",
   "metadata": {},
   "source": [
    "Low-Pass filter to select the band of interest, now centered on DC."
   ]
  },
  {
   "cell_type": "code",
   "execution_count": null,
   "id": "ace53ac5",
   "metadata": {},
   "outputs": [],
   "source": [
    "decimation = 16\n",
    "TotalTaps = 4     # Total Number of Taps\n",
    "PFBSize = 5       # We want the same here\n",
    "alltaps = TotalTaps * 2**PFBSize\n",
    "\n",
    "F_cut = fs/2/decimation\n",
    "\n",
    "LP_filter = scipy.signal.firwin(alltaps, F_cut , width=None, window='hamming', pass_zero=True, scale=True, nyq=None, fs=fs)\n",
    "\n",
    "\n",
    "w,h = scipy.signal.freqz(LP_filter, worN=8192, fs=fs)\n",
    "fig, (ax1, ax2) = plt.subplots(ncols=2)\n",
    "\n",
    "ax1.plot(LP_filter)\n",
    "\n",
    "ax2.set_title('Digital filter frequency response')\n",
    "ax2.plot(w/1e9, 20 * np.log10(abs(h)), 'b')\n",
    "ax2.set_ylabel('Amplitude [dB]', color='b')\n",
    "ax2.set_xlabel('Frequency [GHz]')\n",
    "\n",
    "for dec in range(decimation//2):\n",
    "    ax2.axvline((F_cut + dec * fs/decimation) / 1e9)\n",
    "\n",
    "ax21 = ax2.twinx()\n",
    "angles = np.unwrap(np.angle(h))\n",
    "ax21.plot(w/1e9, angles, 'g')\n",
    "ax21.set_ylabel('Angle (radians)', color='g')\n",
    "ax21.grid(True)\n",
    "ax21.axis('tight')\n",
    "plt.show()"
   ]
  },
  {
   "cell_type": "code",
   "execution_count": null,
   "id": "cce31cac",
   "metadata": {},
   "outputs": [],
   "source": [
    "x_transposed_filtered = scipy.signal.lfilter(LP_filter, 1, x_transposed, axis=-1, zi=None)\n",
    "\n",
    "\n",
    "fig, ax1 = plt.subplots()\n",
    "f, t, Sxx = scipy.signal.stft(x_transposed_filtered, fs, return_onesided=False, nperseg=1024)\n",
    "#f, t, Sxx = scipy.signal.spectrogram(x_transposed, fs)\n",
    "ax1.pcolormesh(t, (F0 + scipy.fft.fftshift(f))/1e6, scipy.fft.fftshift(np.abs(Sxx), axes=0), shading='gouraud')\n",
    "ax1.set_ylabel('Frequency [MHz]')\n",
    "ax1.set_xlabel('Time [sec]')\n",
    "secax = ax1.secondary_yaxis('right', functions=(lambda f: f-F0/1e6,\n",
    "                                                lambda f: f+F0/1e6))\n",
    "secax.set_ylabel('Freq offset [MHz]')\n",
    "\n",
    "plt.show()"
   ]
  },
  {
   "cell_type": "markdown",
   "id": "4d3d5661",
   "metadata": {},
   "source": [
    "Decimate signal now that out of band of interest power was removed"
   ]
  },
  {
   "cell_type": "code",
   "execution_count": null,
   "id": "a6035d9f",
   "metadata": {},
   "outputs": [],
   "source": [
    "x_transposed_filtered_decimated = x_transposed_filtered[::decimation]\n",
    "\n",
    "fig, ax1 = plt.subplots()\n",
    "f, t, Sxx = scipy.signal.stft(x_transposed_filtered_decimated, fs/decimation, return_onesided=False, nperseg=1024/decimation)\n",
    "#f, t, Sxx = scipy.signal.spectrogram(x_transposed, fs)\n",
    "ax1.pcolormesh(t, (F0 + scipy.fft.fftshift(f))/1e6, scipy.fft.fftshift(np.abs(Sxx), axes=0), shading='gouraud')\n",
    "ax1.set_ylabel('Frequency [MHz]')\n",
    "ax1.set_xlabel('Time [sec]')\n",
    "secax = ax1.secondary_yaxis('right', functions=(lambda f: f-F0/1e6,\n",
    "                                                lambda f: f+F0/1e6))\n",
    "secax.set_ylabel('Freq offset [MHz]')\n",
    "\n",
    "acced_spec = (np.abs(Sxx)**2).mean(axis=1)\n",
    "fig, ax1 = plt.subplots()\n",
    "ax1.plot((F0 + scipy.fft.fftshift(f))/1e6, scipy.fft.fftshift(10*np.log10(acced_spec), axes=0))\n",
    "ax1.set_xlabel('Frequency [MHz]')\n",
    "ax1.set_ylabel('Power [dB]')\n",
    "\n",
    "plt.show()"
   ]
  },
  {
   "cell_type": "code",
   "execution_count": null,
   "id": "43f837c8",
   "metadata": {},
   "outputs": [],
   "source": []
  }
 ],
 "metadata": {
  "kernelspec": {
   "display_name": "Python 3 (ipykernel)",
   "language": "python",
   "name": "python3"
  },
  "language_info": {
   "codemirror_mode": {
    "name": "ipython",
    "version": 3
   },
   "file_extension": ".py",
   "mimetype": "text/x-python",
   "name": "python",
   "nbconvert_exporter": "python",
   "pygments_lexer": "ipython3",
   "version": "3.10.12"
  }
 },
 "nbformat": 4,
 "nbformat_minor": 5
}
