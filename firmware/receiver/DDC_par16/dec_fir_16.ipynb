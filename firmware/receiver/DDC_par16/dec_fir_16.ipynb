{
 "cells": [
  {
   "cell_type": "markdown",
   "metadata": {},
   "source": [
    "# Design filter mixer design for adc_receiver_v0"
   ]
  },
  {
   "cell_type": "code",
   "execution_count": null,
   "metadata": {},
   "outputs": [],
   "source": [
    "import numpy as np\n",
    "import scipy\n",
    "import scipy.signal\n",
    "import matplotlib.pyplot as plt\n",
    "%matplotlib widget\n",
    "#%matplotlib qt"
   ]
  },
  {
   "cell_type": "markdown",
   "metadata": {},
   "source": [
    "## Paramaters of the filter\n",
    "\n",
    "- 16 samples in //\n",
    "- 8 taps\n",
    "- coefficients represented as Q(25.24)"
   ]
  },
  {
   "cell_type": "code",
   "execution_count": null,
   "metadata": {},
   "outputs": [],
   "source": [
    "n_inputs = 4      # Number of Simultaneous Inputs (2^?)\n",
    "TotalTaps = 8     # Total Number of Taps\n",
    "PFBSize = 5       # We want the same here\n",
    "alltaps = TotalTaps * 2**PFBSize\n",
    "fwidth = 1\n",
    "\n",
    "coef_w = 25\n",
    "coef_pt = 24\n",
    "\n",
    "fs = 3700"
   ]
  },
  {
   "cell_type": "code",
   "execution_count": null,
   "metadata": {},
   "outputs": [],
   "source": [
    "coeffs = scipy.signal.firwin(alltaps, 1/2**PFBSize)\n",
    "coeffs /= np.max(coeffs)\n",
    "#windowval = scipy.signal.windows.hamming(alltaps, sym=True)\n",
    "#coeffs = windowval * np.sinc(fwidth * ((np.arange(alltaps) + 0.5)/(2**PFBSize)-TotalTaps/2))"
   ]
  },
  {
   "cell_type": "code",
   "execution_count": null,
   "metadata": {},
   "outputs": [],
   "source": [
    "def plot_coeff(coeffs, fs):\n",
    "    plt.figure()\n",
    "    plt.plot(coeffs)\n",
    "    plt.show()\n",
    "\n",
    "    \n",
    "    w, h = scipy.signal.freqz(coeffs, worN=np.linspace(-fs/2,fs/2,2048), whole=True, fs=fs)\n",
    "    H = 20*np.log10(abs(h))\n",
    "    H -= np.max(H)\n",
    "    \n",
    "    plt.figure()\n",
    "    plt.plot(w, H)\n",
    "    plt.xlim((-fs/2, fs/2))\n",
    "    plt.ylim((-75, 1))\n",
    "    plt.show()\n",
    "\n",
    "    \n",
    "    dF0 = fs / 2**PFBSize\n",
    "    plt.figure()\n",
    "    for ch in range(0, 16):\n",
    "        plt.plot(w+ch*dF0, H, '-')\n",
    "    \n",
    "    plt.xlim((-fs/2, fs/2))\n",
    "    plt.ylim((-75, 1))\n",
    "\n",
    "    plt.show()\n",
    "\n",
    "\n",
    "plot_coeff(coeffs, fs)"
   ]
  },
  {
   "cell_type": "code",
   "execution_count": null,
   "metadata": {},
   "outputs": [],
   "source": [
    "coeffs.tofile('dec_fir_coefs.txt', sep=', ')\n",
    "print('[' + ', '.join( str(c) for c in list(coeffs)) + ']')\n",
    "print(coeffs.shape)"
   ]
  },
  {
   "cell_type": "code",
   "execution_count": null,
   "metadata": {},
   "outputs": [],
   "source": [
    "def quantize(x, w, pt, mode='round'):\n",
    "    max_v = (2**(w-1) - 1) / 2**pt\n",
    "    min_v = (-2**(w-1))    / 2**pt\n",
    "    print(f\"[{min_v},{max_v}]\")\n",
    "\n",
    "    # normalize\n",
    "    max_x = np.max(x)\n",
    "    if max_x > max_v:\n",
    "        x = x / max_x * max_v\n",
    "\n",
    "    min_x = np.min(x)\n",
    "    if min_x < min_v:\n",
    "        x = x / min_x * min_v\n",
    "\n",
    "    # quantize\n",
    "    y = x * 2**pt\n",
    "    if mode == 'round':\n",
    "        y = np.round(y)\n",
    "    elif mode == 'trunc':\n",
    "        y = np.floor(y)\n",
    "    return y / 2**pt\n",
    "\n",
    "# x = np.arange(-1024, 1023)/1024\n",
    "# plt.figure()\n",
    "# plt.plot(x, quantize(x, 6), '.')\n",
    "# plt.plot(x, quantize(x, 8), '.')\n",
    "# plt.plot(x, quantize(x, 10), '.')\n"
   ]
  },
  {
   "cell_type": "code",
   "execution_count": null,
   "metadata": {},
   "outputs": [],
   "source": [
    "Q = (25, 24)\n",
    "coeffs_q = quantize(coeffs, Q[0], Q[1])\n",
    "plot_coeff(coeffs_q)\n"
   ]
  },
  {
   "cell_type": "code",
   "execution_count": null,
   "metadata": {},
   "outputs": [],
   "source": [
    "coeffs_q.tofile(f'dec_fir_coefs_Q{Q[0]}.{Q[1]}.txt', sep=', ')\n",
    "print('[' + ', '.join( str(c) for c in list(coeffs_q)) + ']')\n",
    "print(coeffs_q.shape)"
   ]
  },
  {
   "cell_type": "code",
   "execution_count": null,
   "metadata": {},
   "outputs": [],
   "source": []
  }
 ],
 "metadata": {
  "kernelspec": {
   "display_name": "Python 3 (ipykernel)",
   "language": "python",
   "name": "python3"
  },
  "language_info": {
   "codemirror_mode": {
    "name": "ipython",
    "version": 3
   },
   "file_extension": ".py",
   "mimetype": "text/x-python",
   "name": "python",
   "nbconvert_exporter": "python",
   "pygments_lexer": "ipython3",
   "version": "3.8.17"
  }
 },
 "nbformat": 4,
 "nbformat_minor": 2
}
