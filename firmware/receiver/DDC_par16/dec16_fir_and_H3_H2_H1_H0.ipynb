{
 "cells": [
  {
   "cell_type": "markdown",
   "metadata": {},
   "source": [
    "# Design filter mixer design for adc_receiver_v0"
   ]
  },
  {
   "cell_type": "code",
   "execution_count": null,
   "metadata": {},
   "outputs": [],
   "source": [
    "import numpy as np\n",
    "import scipy\n",
    "import scipy.signal\n",
    "import matplotlib.pyplot as plt\n",
    "%matplotlib widget\n",
    "#%matplotlib qt"
   ]
  },
  {
   "cell_type": "markdown",
   "metadata": {},
   "source": [
    "## Parameters of the dec16_fir filter\n",
    "\n",
    "- 16 samples in //\n",
    "- 4 taps\n",
    "- coefficients represented as Q(16, 15)"
   ]
  },
  {
   "cell_type": "code",
   "execution_count": null,
   "metadata": {},
   "outputs": [],
   "source": [
    "n_inputs = 4      # Number of Simultaneous Inputs (2^?)\n",
    "decimation = 2**n_inputs\n",
    "TotalTaps = 4     # Total Number of Taps\n",
    "PFBSize = 5       # We want the same here\n",
    "alltaps = TotalTaps * 2**PFBSize\n",
    "fwidth = 1\n",
    "\n",
    "coef_w = 16\n",
    "coef_dp = 15\n",
    "\n",
    "fs = 3700\n",
    "F_cut = fs/decimation/2"
   ]
  },
  {
   "cell_type": "code",
   "execution_count": null,
   "metadata": {},
   "outputs": [],
   "source": [
    "dec16_fir_coeffs = scipy.signal.firwin(alltaps, F_cut , width=None, window='hamming', pass_zero=True, scale=True, nyq=None, fs=fs)\n",
    "dec16_fir_coeffs /= np.max(dec16_fir_coeffs)\n",
    "#windowval = scipy.signal.windows.hamming(alltaps, sym=True)\n",
    "#coeffs = windowval * np.sinc(fwidth * ((np.arange(alltaps) + 0.5)/(2**PFBSize)-TotalTaps/2))"
   ]
  },
  {
   "cell_type": "code",
   "execution_count": null,
   "metadata": {},
   "outputs": [],
   "source": [
    "def aliased_freq(f_signal, f_sample):\n",
    "    n = (f_signal / float(f_sample)).round()\n",
    "    f_alias = abs(f_sample * n - f_signal)\n",
    "    return f_alias\n"
   ]
  },
  {
   "cell_type": "code",
   "execution_count": null,
   "metadata": {},
   "outputs": [],
   "source": [
    "def plot_coeff(coeffs, fs, decimation):\n",
    "    fig, axs = plt.subplots(ncols=3, figsize=(15,5))\n",
    "    axs[0].plot(coeffs)\n",
    "\n",
    "    w, h = scipy.signal.freqz(coeffs, worN=np.linspace(-fs/2,fs/2,2048), whole=True, fs=fs)\n",
    "    H = 20*np.log10(abs(h))\n",
    "    H -= np.max(H)\n",
    "    \n",
    "    axs[1].plot(w, H)\n",
    "    axs[1].set_xlim((-fs/decimation*1.2, fs/decimation*1.2))\n",
    "    axs[1].set_ylim((-75, 1))\n",
    "    \n",
    "    wa = aliased_freq(w, fs/decimation)\n",
    "    axs[1].plot(wa, H)\n",
    "    axs[1].plot(-wa, H)\n",
    "    axs[1].axvline(-fs/decimation/2, color='r')\n",
    "    axs[1].axvline(fs/decimation/2, color='r')\n",
    "    axs[1].axvline(-fs/decimation/4, color='k')\n",
    "    axs[1].axvline(fs/decimation/4, color='k')\n",
    "  \n",
    "    \n",
    "    dF0 = fs / decimation\n",
    "    for ch in range(0, 16):\n",
    "        axs[2].plot(w+ch*dF0, H, '-')\n",
    "    \n",
    "    axs[2].set_xlim((-fs/2, fs/2))\n",
    "    axs[2].set_ylim((-75, 1))\n",
    "\n",
    "\n",
    "plot_coeff(dec16_fir_coeffs, fs, decimation)"
   ]
  },
  {
   "cell_type": "code",
   "execution_count": null,
   "metadata": {},
   "outputs": [],
   "source": [
    "dec16_fir_coeffs.tofile('dec_fir_coefs.txt', sep=', ')\n",
    "print('[' + ', '.join( str(c) for c in list(dec16_fir_coeffs)) + ']')\n",
    "print(dec16_fir_coeffs.shape)"
   ]
  },
  {
   "cell_type": "code",
   "execution_count": null,
   "metadata": {},
   "outputs": [],
   "source": [
    "def quantize(x, w, pt, mode='round'):\n",
    "    max_v = (2**(w-1) - 1) / 2**pt\n",
    "    min_v = (-2**(w-1))    / 2**pt\n",
    "    #print(f\"[{min_v},{max_v}]\")\n",
    "\n",
    "    # normalize\n",
    "    max_x = np.max(x)\n",
    "    if max_x > max_v:\n",
    "        x = x / max_x * max_v\n",
    "\n",
    "    min_x = np.min(x)\n",
    "    if min_x < min_v:\n",
    "        x = x / min_x * min_v\n",
    "\n",
    "    # quantize\n",
    "    y = x * 2**pt\n",
    "    if mode == 'round':\n",
    "        y = np.round(y)\n",
    "    elif mode == 'trunc':\n",
    "        y = np.floor(y)\n",
    "    return y / 2**pt\n",
    "\n",
    "# x = np.arange(-1024, 1023)/1024\n",
    "# plt.figure()\n",
    "# plt.plot(x, quantize(x, 6), '.')\n",
    "# plt.plot(x, quantize(x, 8), '.')\n",
    "# plt.plot(x, quantize(x, 10), '.')\n"
   ]
  },
  {
   "cell_type": "code",
   "execution_count": null,
   "metadata": {},
   "outputs": [],
   "source": [
    "Q = (coef_w, coef_dp)\n",
    "# Q = (6, 5)\n",
    "dec16_fir_coeffs_q = quantize(dec16_fir_coeffs, Q[0], Q[1])\n",
    "plot_coeff(dec16_fir_coeffs_q, fs, decimation)\n"
   ]
  },
  {
   "cell_type": "code",
   "execution_count": null,
   "metadata": {},
   "outputs": [],
   "source": [
    "dec16_fir_coeffs_q.tofile(f'dec_fir_coefs_Q{Q[0]}.{Q[1]}.txt', sep=', ')\n",
    "print('[' + ', '.join( str(c) for c in list(dec16_fir_coeffs_q)) + ']')\n",
    "print(dec16_fir_coeffs_q.shape)"
   ]
  },
  {
   "cell_type": "code",
   "execution_count": null,
   "metadata": {},
   "outputs": [],
   "source": [
    "# ~~[Filter Design with Parks-McClellan Remez]~~\n",
    "N = 10  # Filter order\n",
    "# Filter symetric around 0.25 (where .5 is pi or Fs/2)\n",
    "transition_band = 0.25\n",
    "bands = np.array([0., .25-transition_band/2, .25+transition_band/2, .5])\n",
    "h2 = scipy.signal.remez(N+1, bands, [1,0], [1,1])\n",
    "h2[abs(h2) <= 1e-4] = 0.\n",
    "h2 /= np.max(h2)\n",
    "\n",
    "plot_coeff(h2, fs/16, 2)"
   ]
  },
  {
   "cell_type": "code",
   "execution_count": null,
   "metadata": {},
   "outputs": [],
   "source": [
    "# ~~[Filter Design with Parks-McClellan Remez]~~\n",
    "N = 40  # Filter order\n",
    "# Filter symetric around 0.25 (where .5 is pi or Fs/2)\n",
    "transition_band = 0.07\n",
    "bands = np.array([0., .25-transition_band/2, .25+transition_band/2, .5])\n",
    "h0 = scipy.signal.remez(N+1, bands, [1,0], [1,1])\n",
    "h0[abs(h0) <= 1e-4] = 0.\n",
    "h0 /= np.max(h0)\n",
    "\n",
    "plot_coeff(h0, fs/16, 2)"
   ]
  },
  {
   "cell_type": "code",
   "execution_count": null,
   "metadata": {},
   "outputs": [],
   "source": [
    "def aliased_freq(f_signal, f_sample):\n",
    "    neg = f_signal < 0\n",
    "    n = (f_signal / float(f_sample)).round()\n",
    "    f_alias = abs(f_sample * n - f_signal)\n",
    "    f_alias[neg] *= -1\n",
    "    return f_alias"
   ]
  },
  {
   "cell_type": "code",
   "execution_count": null,
   "metadata": {},
   "outputs": [],
   "source": [
    "def plot_receiver_gain(Galactic_mode):\n",
    "    Npts = 2048*16\n",
    "    fs = 3700\n",
    "    f = np.linspace(0, fs, Npts, endpoint=False)\n",
    "    f = np.fft.fftshift(f)\n",
    "    f[f>=fs/2] = f[f>=fs/2]-3700\n",
    "    decimation = 1\n",
    "\n",
    "    dec16_fir_coeffs_q = quantize(dec16_fir_coeffs, *Q)\n",
    "    h2_q               = quantize(              h2, *Q)\n",
    "    h0_q               = quantize(              h0, *Q)\n",
    "\n",
    "    filters = [(\"dec16\", dec16_fir_coeffs_q, 16, None, True),\n",
    "            (   \"h2\",               h2_q,  2, None, Galactic_mode),\n",
    "            (   \"h1\",               h2_q,  2, None, Galactic_mode),\n",
    "            (   \"h0\",               h0_q,  2, None, True),\n",
    "            ]\n",
    "\n",
    "    for filter_idx in range(len(filters)):\n",
    "        filter_name, filter_coeff, filter_decimation, filter_gain, active = filters[filter_idx]\n",
    "        if active:\n",
    "            _, filter_gain = scipy.signal.freqz(filter_coeff, worN=f, fs=fs/decimation)\n",
    "            filter_gain /= np.max(filter_gain)\n",
    "            decimation *= filter_decimation\n",
    "            filters[filter_idx] = (filter_name, filter_coeff, decimation, filter_gain, active)\n",
    "    \n",
    "    \n",
    "    \n",
    "    gain = np.ones_like(filter_gain)\n",
    "    \n",
    "    fig, axs = plt.subplots(nrows=len(filters) + 1, ncols=3,\n",
    "                            sharex='col', sharey=True,\n",
    "                            figsize=(15,10))\n",
    "    for filter_idx in range(len(filters)):\n",
    "        filter_name, filter_coeff, decimation, filter_gain, active = filters[filter_idx]\n",
    "        if active:\n",
    "            gain *= filter_gain\n",
    "            axs[filter_idx][0].plot(f, 20*np.log10(abs(filter_gain)))\n",
    "            axs[filter_idx][1].plot(aliased_freq(f, fs/decimation), 20*np.log10(abs(filter_gain)))\n",
    "            axs[filter_idx][2].plot(aliased_freq(f, fs/decimation), 20*np.log10(abs(filter_gain)))\n",
    "    \n",
    "     \n",
    "    \n",
    "    axs[-1][0].plot(f, 20*np.log10(abs(gain)))\n",
    "    axs[-1][1].plot(aliased_freq(f, fs/decimation), 20*np.log10(abs(gain)))\n",
    "    axs[-1][2].plot(aliased_freq(f, fs/decimation), 20*np.log10(abs(gain)))\n",
    "    \n",
    "    axs[-1][1].set_ylim((-100, 3))\n",
    "    if Galactic_mode:\n",
    "        axs[-1][2].set_xlim((-20, 20))\n",
    "    else:\n",
    "        axs[-1][2].set_xlim((-80, 80))\n",
    "    \n",
    "    _=list(ax[0].set_ylabel(\"dB\") for ax in axs)\n",
    "    _=list(ax.set_xlabel(\"Freq (MHz)\") for ax in axs[-1])\n",
    "    \n",
    "    \n",
    "plot_receiver_gain(Galactic_mode = True)  #  28MHz BW\n",
    "plot_receiver_gain(Galactic_mode = False)  # 112MHz BW\n"
   ]
  },
  {
   "cell_type": "code",
   "execution_count": null,
   "metadata": {},
   "outputs": [],
   "source": [
    "for filter_idx in range(len(filters)):\n",
    "    filter_name, filter_coeff, filter_decimation, filter_gain, active = filters[filter_idx]\n",
    "    filter_coeff.tofile(f'{filter_name}_Q{Q[0]}.{Q[1]}.txt', sep=', ')\n",
    "    print('[' + ', '.join( str(c) for c in list(filter_coeff)) + ']')\n",
    "    print(filter_coeff.shape)\n"
   ]
  },
  {
   "cell_type": "code",
   "execution_count": null,
   "metadata": {},
   "outputs": [],
   "source": []
  }
 ],
 "metadata": {
  "kernelspec": {
   "display_name": "Python 3 (ipykernel)",
   "language": "python",
   "name": "python3"
  },
  "language_info": {
   "codemirror_mode": {
    "name": "ipython",
    "version": 3
   },
   "file_extension": ".py",
   "mimetype": "text/x-python",
   "name": "python",
   "nbconvert_exporter": "python",
   "pygments_lexer": "ipython3",
   "version": "3.10.12"
  }
 },
 "nbformat": 4,
 "nbformat_minor": 2
}
