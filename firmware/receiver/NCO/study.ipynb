{
 "cells": [
  {
   "cell_type": "code",
   "execution_count": null,
   "id": "7617fc63",
   "metadata": {},
   "outputs": [],
   "source": [
    "import numpy as np\n",
    "from scipy import signal\n",
    "from scipy import fft\n",
    "import matplotlib.pyplot as plt\n",
    "%matplotlib widget\n",
    "#%matplotlib qt"
   ]
  },
  {
   "cell_type": "code",
   "execution_count": null,
   "id": "fff8ee45",
   "metadata": {},
   "outputs": [],
   "source": [
    "fs = 3.7e9\n",
    "numtaps = 127  # Filter order\n",
    "trans_width = 50e6    # Width of transition from pass to stop, Hz\n",
    "band = [1e9, 1.8e9]  # Desired pass band, Hz\n",
    "edges = [0, band[0] - trans_width, band[0],\n",
    "            band[1], band[1] + trans_width, 0.5*fs]\n",
    "taps = signal.remez(numtaps, edges, [0, 1, 0], fs=fs)\n",
    "\n",
    "(w,Hr) = signal.freqz(taps, worN=5000, fs=fs)"
   ]
  },
  {
   "cell_type": "code",
   "execution_count": null,
   "id": "31a1fdc6",
   "metadata": {},
   "outputs": [],
   "source": [
    "fig = plt.figure(figsize=(20, 5))\n",
    "ax0 = fig.add_subplot(211)\n",
    "ax0.stem(np.arange(len(taps)), taps)\n",
    "ax0.grid(True)\n",
    "ax0.set_title('Impulse Response')\n",
    "ax1 = fig.add_subplot(212)\n",
    "ax1.plot(w, 20*np.log10(abs(Hr)))\n",
    "ax1.set_xlim((0,fs/2))\n",
    "ax1.set_xticks((0, fs/4, *band, fs/2))\n",
    "ax1.set_title('Freq Response')\n",
    "ax1.grid(True)\n",
    "fig.savefig('BF_feed_model.png')"
   ]
  },
  {
   "cell_type": "code",
   "execution_count": null,
   "id": "96e5ab06",
   "metadata": {},
   "outputs": [],
   "source": [
    "N = 2**20\n",
    "nfft = 2048\n",
    "noise_power = 1\n",
    "n = np.arange(N)\n",
    "time = n / float(fs)\n",
    "mod = 2e4*np.cos(2*np.pi*10000*time)\n",
    "amp = 0.5\n",
    "carrier = amp * np.sin(2*np.pi*1.25e9*time + mod)\n",
    "noise = np.random.normal(scale=np.sqrt(noise_power), size=time.shape)\n",
    "noise *= np.exp(-time/5)\n",
    "x = carrier + noise\n",
    "\n",
    "LF_feed_noise = signal.filtfilt(taps, 1, x)\n",
    "\n",
    "f, t, Sxx = signal.spectrogram(LF_feed_noise, nfft = 2048, fs=fs, return_onesided=False)\n",
    "median_power = np.median(Sxx[800:900,:].flatten())"
   ]
  },
  {
   "cell_type": "code",
   "execution_count": null,
   "id": "93270639",
   "metadata": {},
   "outputs": [],
   "source": [
    "f, t, Sxx = signal.spectrogram(LF_feed_noise, nfft = nfft, fs=fs, return_onesided=False)\n",
    "\n",
    "def spec(f, t, Sxx):\n",
    "  fig = plt.figure(figsize=(10, 10))\n",
    "  ax0 = fig.add_subplot(111)\n",
    "  #ax0.pcolormesh(t, f, Sxx, shading='gouraud')\n",
    "  ax0.imshow(fft.fftshift(Sxx, axes=0),\n",
    "             interpolation='nearest',\n",
    "             aspect='auto',\n",
    "             origin='lower',\n",
    "             extent=(t[0], t[-1], -fs/2, fs/2),\n",
    "             vmin=0,\n",
    "             vmax=5*median_power)\n",
    "  ax0.set_ylabel('Frequency [Hz]')\n",
    "  ax0.set_xlabel('Time [sec]')\n",
    "  plt.show()"
   ]
  },
  {
   "cell_type": "code",
   "execution_count": null,
   "id": "d16a8bc5",
   "metadata": {},
   "outputs": [],
   "source": [
    "spec(f, t, Sxx)"
   ]
  },
  {
   "cell_type": "code",
   "execution_count": null,
   "id": "a7921ce0",
   "metadata": {},
   "outputs": [],
   "source": [
    "fc = 1.1e9\n",
    "L0_len = 1024\n",
    "par_samples = 16\n",
    "kc = np.round(fc/fs * L0_len)\n",
    "#kc = 100\n",
    "print(kc)\n",
    "L0 = np.exp(2j*np.pi*(-kc) * n / L0_len)\n",
    "mixer_out = LF_feed_noise * L0\n",
    "\n",
    "f, t, Sxx = signal.spectrogram(mixer_out, nfft = 2048, fs=fs)\n",
    "spec(t, f, Sxx)"
   ]
  },
  {
   "cell_type": "code",
   "execution_count": null,
   "id": "79704e46",
   "metadata": {},
   "outputs": [],
   "source": [
    "L0_mem = L0[:L0_len*par_samples]\n",
    "fig = plt.figure(figsize=(20, 5))\n",
    "ax0 = fig.add_subplot(111)\n",
    "ax0.stem(L0_mem.real, 'b')\n",
    "ax0.stem(L0_mem.imag, 'r')"
   ]
  },
  {
   "cell_type": "code",
   "execution_count": null,
   "id": "cb2ce9b3",
   "metadata": {},
   "outputs": [],
   "source": [
    "L0_mem = L0_mem.reshape((L0_len, par_samples))\n",
    "fig = plt.figure(figsize=(20, 5))\n",
    "ax0 = fig.add_subplot(211)\n",
    "ax1 = fig.add_subplot(212)\n",
    "for mem in range(par_samples):\n",
    "  ax0.plot(L0_mem[:, mem].real + mem, '.-')\n",
    "  P_L0=mem = 1/nfft * fft.fft(L0_mem[:, mem])\n",
    "  ax1.plot(np.abs(P_L0)+mem, '.')"
   ]
  },
  {
   "cell_type": "code",
   "execution_count": null,
   "id": "b5880118",
   "metadata": {},
   "outputs": [],
   "source": [
    "NCO_w = 16\n",
    "NCO_dp = 15\n",
    "Max_NCO_val = 2**(NCO_dp)-1\n",
    "ReIm = 2\n",
    "L0_mem_ReIm = L0_mem.view(np.float64).reshape((L0_len, par_samples, ReIm))\n",
    "L0_mem_ImRe = L0_mem_ReIm[:,:,-1::-1]\n",
    "L0_mem_ImRe_int = np.round(L0_mem_ImRe * Max_NCO_val)\n",
    "L0_mem_ImRe_int16 = L0_mem_ImRe_int.astype(np.int16)\n",
    "L0_mem_uint32 = L0_mem_ImRe_int16.view(np.uint32)[...,0]"
   ]
  }
 ],
 "metadata": {
  "kernelspec": {
   "display_name": "Python 3 (ipykernel)",
   "language": "python",
   "name": "python3"
  },
  "language_info": {
   "codemirror_mode": {
    "name": "ipython",
    "version": 3
   },
   "file_extension": ".py",
   "mimetype": "text/x-python",
   "name": "python",
   "nbconvert_exporter": "python",
   "pygments_lexer": "ipython3",
   "version": "3.8.17"
  }
 },
 "nbformat": 4,
 "nbformat_minor": 5
}
