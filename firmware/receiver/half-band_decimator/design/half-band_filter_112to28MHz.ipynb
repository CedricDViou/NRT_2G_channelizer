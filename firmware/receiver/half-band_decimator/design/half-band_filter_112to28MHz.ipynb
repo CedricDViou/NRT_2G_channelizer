{
 "cells": [
  {
   "attachments": {},
   "cell_type": "markdown",
   "id": "d0b975e8",
   "metadata": {},
   "source": [
    "# Half-band filter design\n",
    "Moving from 112 MHz bands to 28 MHz"
   ]
  },
  {
   "attachments": {},
   "cell_type": "markdown",
   "id": "a0f826d6",
   "metadata": {},
   "source": [
    "- https://www.dsprelated.com/showcode/270.php\n",
    "- https://www.wavewalkerdsp.com/2021/12/08/half-band-filter-design-function-in-python/\n",
    "- https://tomverbeure.github.io/2020/12/15/Half-Band-Filters-A-Workhorse-of-Decimation-Filters.html\n",
    "- https://docs.xilinx.com/r/en-US/pg149-fir-compiler/Half-band-Decimator"
   ]
  },
  {
   "cell_type": "code",
   "execution_count": null,
   "id": "0d1cb550",
   "metadata": {},
   "outputs": [],
   "source": []
  }
 ],
 "metadata": {
  "kernelspec": {
   "display_name": "Python 3 (ipykernel)",
   "language": "python",
   "name": "python3"
  },
  "language_info": {
   "codemirror_mode": {
    "name": "ipython",
    "version": 3
   },
   "file_extension": ".py",
   "mimetype": "text/x-python",
   "name": "python",
   "nbconvert_exporter": "python",
   "pygments_lexer": "ipython3",
   "version": "3.8.8"
  }
 },
 "nbformat": 4,
 "nbformat_minor": 5
}
