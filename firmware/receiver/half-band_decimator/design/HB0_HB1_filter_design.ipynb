{
 "cells": [
  {
   "attachments": {},
   "cell_type": "markdown",
   "metadata": {},
   "source": [
    "# H0 and H1 filter design for adc_receiver_V0\n",
    "\n",
    "From https://www.dsprelated.com/showcode/270.php"
   ]
  },
  {
   "cell_type": "code",
   "execution_count": null,
   "metadata": {},
   "outputs": [],
   "source": [
    "import numpy as np\n",
    "import scipy\n",
    "import scipy.signal\n",
    "import matplotlib.pyplot as plt\n",
    "%matplotlib widget\n"
   ]
  },
  {
   "cell_type": "code",
   "execution_count": null,
   "metadata": {},
   "outputs": [],
   "source": [
    "# ~~[Filter Design with Parks-McClellan Remez]~~\n",
    "N = 30  # Filter order\n",
    "# Filter symetric around 0.25 (where .5 is pi or Fs/2)\n",
    "bands = np.array([0., .22, .28, .5])\n",
    "hr = scipy.signal.remez(N+1, bands, [1,0], [1,1])\n",
    "# normalize by central coef to implement 1.0 multiplication easily\n",
    "hr /= hr[(len(hr)-1)//2]\n",
    "hr[abs(hr) <= 1.1e-4] = 0.\n",
    "(w,Hr) = scipy.signal.freqz(hr)\n",
    "\n",
    "# ~~[Filter Design with Windowed freq]~~\n",
    "hw = scipy.signal.firwin(N+1, 0.5)\n",
    "# normalize by central coef to implement 1.0 multiplication easily\n",
    "hw /= hw[(len(hw)-1)//2]\n",
    "hw[abs(hw) <= 1e-4] = 0.\n",
    "(w, Hw) = scipy.signal.freqz(hw)"
   ]
  },
  {
   "cell_type": "code",
   "execution_count": null,
   "metadata": {},
   "outputs": [],
   "source": [
    "print(\"hr= \" + \"\".join((f\"{c} \" for c in hr)))\n",
    "print(\"hw= \" +\"\".join((f\"{c} \" for c in hw)))"
   ]
  },
  {
   "cell_type": "code",
   "execution_count": null,
   "metadata": {},
   "outputs": [],
   "source": [
    "\n",
    "fig = plt.figure()\n",
    "ax0 = fig.add_subplot(211)\n",
    "ax0.stem(np.arange(len(hr)), hr)\n",
    "ax0.grid(True)\n",
    "ax0.set_title('Parks-McClellan (remez) Impulse Response')\n",
    "ax1 = fig.add_subplot(212)\n",
    "ax1.stem(np.arange(len(hw)), hw)\n",
    "ax1.set_title('Windowed Frequency Sampling (firwin) Impulse Response')\n",
    "ax1.grid(True)\n",
    "fig.savefig('hb_imp.png')"
   ]
  },
  {
   "cell_type": "code",
   "execution_count": null,
   "metadata": {},
   "outputs": [],
   "source": [
    "fig = plt.figure()\n",
    "ax1 = fig.add_subplot(111)\n",
    "ax1.plot(w, 20*np.log10(abs(Hr)))\n",
    "ax1.plot(w, 20*np.log10(abs(Hw)))\n",
    "ax1.legend(['remez', 'firwin'])\n",
    "bx = bands*2*np.pi\n",
    "ax1.axvspan(bx[1], bx[2], facecolor='0.5', alpha=0.33)\n",
    "ax1.plot(np.pi/2, -6, 'go')\n",
    "ax1.axvline(np.pi/2, color='g', linestyle='--')\n",
    "ax1.axis([0,np.pi,-64,10])\n",
    "ax1.grid('on')\n",
    "ax1.set_ylabel('Magnitude (dB)')\n",
    "ax1.set_xlabel('Normalized Frequency (radians)')\n",
    "ax1.set_title('Half Band Filter Frequency Response')\n",
    "fig.savefig('hb_rsp.png')"
   ]
  },
  {
   "cell_type": "code",
   "execution_count": null,
   "metadata": {},
   "outputs": [],
   "source": [
    "ax1.axis([0,np.pi*0.5,6-0.2,6.2])\n",
    "fig.savefig('hb_rsp_zoom.png')"
   ]
  },
  {
   "attachments": {},
   "cell_type": "markdown",
   "metadata": {},
   "source": [
    "## Parallel implementation of HB filter"
   ]
  },
  {
   "cell_type": "code",
   "execution_count": null,
   "metadata": {},
   "outputs": [],
   "source": [
    "h = hw\n",
    "\n",
    "N = 512*64\n",
    "n = np.arange(N)\n",
    "x = 5 * np.random.randn(*n.shape)\n",
    "for fc in (0.1, 0.4):\n",
    "    x += 20 * np.sin(2*np.pi*fc*n)\n",
    "\n",
    "x_file = x.astype(np.int32).reshape((-1,1))\n",
    "x_file = np.hstack((x_file, x_file))\n",
    "x_file[:,1] = 0\n",
    "np.savetxt(\"noise_and_2_lines_input.txt\", x_file, fmt='%10d')\n",
    "\n",
    "f, t, Sxx = scipy.signal.stft(x, 1, return_onesided=False, nperseg=512, window='blackman')\n",
    "f = scipy.fft.fftshift(f)\n",
    "Sxx = scipy.fft.fftshift(Sxx, axes=0)"
   ]
  },
  {
   "cell_type": "code",
   "execution_count": null,
   "metadata": {},
   "outputs": [],
   "source": [
    "fig, axs = plt.subplots(nrows=1, ncols=2)\n",
    "axs[0].pcolormesh(t, f, 20*np.log10(np.abs(Sxx)), shading='gouraud')\n",
    "axs[0].set_ylabel('Frequency [MHz]')\n",
    "axs[0].set_xlabel('Time [sec]')\n",
    "\n",
    "Sxx_av = abs(Sxx).mean(axis=1)\n",
    "axs[1].plot(20*np.log10(Sxx_av), f)\n",
    "axs[1].set_ylabel('Frequency [MHz]')\n",
    "axs[1].set_xlabel('Power (dB)')\n",
    "\n",
    "plt.show()"
   ]
  },
  {
   "attachments": {},
   "cell_type": "markdown",
   "metadata": {},
   "source": [
    "\n",
    "### Naïve approch: convolve by h and decimate"
   ]
  },
  {
   "cell_type": "code",
   "execution_count": null,
   "metadata": {},
   "outputs": [],
   "source": [
    "y = scipy.signal.lfilter(h, 1, x, axis=-1, zi=None)\n",
    "\n",
    "f, t, Syy = scipy.signal.stft(y, 1, return_onesided=False, nperseg=512, window='blackman')\n",
    "f = scipy.fft.fftshift(f)\n",
    "Syy = scipy.fft.fftshift(Syy, axes=0)"
   ]
  },
  {
   "cell_type": "code",
   "execution_count": null,
   "metadata": {},
   "outputs": [],
   "source": [
    "fig, axs = plt.subplots(nrows=1, ncols=2)\n",
    "axs[0].pcolormesh(t, f, 20*np.log10(np.abs(Syy)), shading='gouraud')\n",
    "axs[0].set_ylabel('Frequency [MHz]')\n",
    "axs[0].set_xlabel('Time [sec]')\n",
    "\n",
    "Syy_av = abs(Syy).mean(axis=1)\n",
    "axs[1].plot(20*np.log10(Sxx_av), f)\n",
    "axs[1].plot(20*np.log10(Syy_av), f)\n",
    "axs[1].set_ylabel('Frequency [MHz]')\n",
    "axs[1].set_xlabel('Power (dB)')\n",
    "\n",
    "plt.show()"
   ]
  },
  {
   "cell_type": "code",
   "execution_count": null,
   "metadata": {},
   "outputs": [],
   "source": [
    "y_dec = y[0::2]\n",
    "f_dec, t_dec, Syy_dec = scipy.signal.stft(y_dec, 1/2, return_onesided=False, nperseg=512, window='blackman')\n",
    "f_dec = scipy.fft.fftshift(f_dec)\n",
    "Syy_dec = scipy.fft.fftshift(Syy_dec, axes=0)\n"
   ]
  },
  {
   "cell_type": "code",
   "execution_count": null,
   "metadata": {},
   "outputs": [],
   "source": [
    "fig, axs = plt.subplots(nrows=1, ncols=2)\n",
    "axs[0].pcolormesh(t_dec, f_dec, 20*np.log10(np.abs(Syy_dec)), shading='gouraud')\n",
    "axs[0].set_ylabel('Frequency [MHz]')\n",
    "axs[0].set_xlabel('Time [sec]')\n",
    "axs[0].set_ylim((-0.5, 0.5))\n",
    "\n",
    "Syy_dec_av = abs(Syy_dec).mean(axis=1)\n",
    "axs[1].plot(20*np.log10(Syy_av), f)\n",
    "axs[1].plot(20*np.log10(Syy_dec_av), f_dec)\n",
    "axs[1].set_ylabel('Frequency [MHz]')\n",
    "axs[1].set_xlabel('Power (dB)')\n",
    "\n",
    "plt.show()"
   ]
  },
  {
   "attachments": {},
   "cell_type": "markdown",
   "metadata": {},
   "source": [
    "### Optimisation: polyphase implementation with 2 branches"
   ]
  },
  {
   "cell_type": "code",
   "execution_count": null,
   "metadata": {},
   "outputs": [],
   "source": [
    "h_even = h[0::2]\n",
    "h_odd  = h[1::2]\n",
    "print(h_even)\n",
    "print(h_odd )"
   ]
  },
  {
   "cell_type": "code",
   "execution_count": null,
   "metadata": {},
   "outputs": [],
   "source": [
    "x_even = x[0::2]\n",
    "x_odd  = x[1::2]\n",
    "y_even = scipy.signal.lfilter(h_even, 1, x_even, axis=-1, zi=None)\n",
    "y_odd  = scipy.signal.lfilter(h_odd , 1, x_odd , axis=-1, zi=None)\n",
    "y_opt = y_even + y_odd\n",
    "\n",
    "f_opt, t_opt, Syy_opt = scipy.signal.stft(y_opt, 1/2, return_onesided=False, nperseg=512, window='blackman')\n",
    "f_opt = scipy.fft.fftshift(f_opt)\n",
    "Syy_opt = scipy.fft.fftshift(Syy_opt, axes=0)\n"
   ]
  },
  {
   "cell_type": "code",
   "execution_count": null,
   "metadata": {},
   "outputs": [],
   "source": [
    "fig, axs = plt.subplots(nrows=1, ncols=2)\n",
    "axs[0].pcolormesh(t_opt, f_opt, 20*np.log10(np.abs(Syy_opt)), shading='gouraud')\n",
    "axs[0].set_ylabel('Frequency [MHz]')\n",
    "axs[0].set_xlabel('Time [sec]')\n",
    "axs[0].set_ylim((-0.5, 0.5))\n",
    "\n",
    "Syy_opt_av = abs(Syy_opt).mean(axis=1)\n",
    "axs[1].plot(20*np.log10(Syy_av), f)\n",
    "axs[1].plot(20*np.log10(Syy_opt_av), f_dec)\n",
    "axs[1].set_ylabel('Frequency [MHz]')\n",
    "axs[1].set_xlabel('Power (dB)')\n",
    "\n",
    "plt.show()"
   ]
  },
  {
   "cell_type": "code",
   "execution_count": null,
   "metadata": {},
   "outputs": [],
   "source": [
    "fig, ax = plt.subplots()\n",
    "ax.plot(y_dec[1:])\n",
    "ax.plot(y_opt)\n"
   ]
  },
  {
   "cell_type": "code",
   "execution_count": null,
   "metadata": {},
   "outputs": [],
   "source": [
    "dout = np.loadtxt(\"noise_and_2_lines_output.txt\")\n",
    "\n",
    "fig, ax = plt.subplots()\n",
    "ax.plot(y_dec[1:])\n",
    "ax.plot(y_opt)\n",
    "ax.plot(dout[:,0])\n",
    "ax.set_xlim((0,200))"
   ]
  },
  {
   "cell_type": "code",
   "execution_count": null,
   "metadata": {},
   "outputs": [],
   "source": [
    "f_vhdl, t_vhdl, Syy_vhdl = scipy.signal.stft(dout[:,0], 1/2, return_onesided=False, nperseg=512, window='blackman')\n",
    "f_vhdl = scipy.fft.fftshift(f_vhdl)\n",
    "Syy_vhdl = scipy.fft.fftshift(Syy_vhdl, axes=0)\n",
    "\n"
   ]
  },
  {
   "cell_type": "code",
   "execution_count": null,
   "metadata": {},
   "outputs": [],
   "source": [
    "fig, axs = plt.subplots(nrows=1, ncols=2)\n",
    "axs[0].pcolormesh(t_vhdl, f_vhdl, 20*np.log10(np.abs(Syy_vhdl)), shading='gouraud')\n",
    "axs[0].set_ylabel('Frequency [MHz]')\n",
    "axs[0].set_xlabel('Time [sec]')\n",
    "axs[0].set_ylim((-0.5, 0.5))\n",
    "\n",
    "Syy_vhdl_av = abs(Syy_vhdl).mean(axis=1)\n",
    "axs[1].plot(20*np.log10(Syy_av), f)\n",
    "axs[1].plot(20*np.log10(Syy_vhdl_av), f_dec)\n",
    "axs[1].set_ylabel('Frequency [MHz]')\n",
    "axs[1].set_xlabel('Power (dB)')\n",
    "\n",
    "plt.show()"
   ]
  }
 ],
 "metadata": {
  "kernelspec": {
   "display_name": "base",
   "language": "python",
   "name": "python3"
  },
  "language_info": {
   "codemirror_mode": {
    "name": "ipython",
    "version": 3
   },
   "file_extension": ".py",
   "mimetype": "text/x-python",
   "name": "python",
   "nbconvert_exporter": "python",
   "pygments_lexer": "ipython3",
   "version": "3.10.9"
  },
  "orig_nbformat": 4
 },
 "nbformat": 4,
 "nbformat_minor": 2
}
